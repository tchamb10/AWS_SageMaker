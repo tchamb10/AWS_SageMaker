{
 "cells": [
  {
   "cell_type": "code",
   "execution_count": 1,
   "id": "b448169c",
   "metadata": {},
   "outputs": [],
   "source": [
    "from sklearn.datasets import load_digits\n",
    "mnist = load_digits()\n",
    "from sklearn.model_selection import train_test_split\n",
    "from sklearn.preprocessing import StandardScaler\n",
    "from sklearn.decomposition import PCA\n",
    "from sklearn.linear_model import LogisticRegression\n",
    "import time"
   ]
  },
  {
   "cell_type": "code",
   "execution_count": 2,
   "id": "27b0e25e",
   "metadata": {},
   "outputs": [
    {
     "name": "stdout",
     "output_type": "stream",
     "text": [
      "\n",
      "Number of components: 25\n",
      "\n"
     ]
    }
   ],
   "source": [
    "# split data between train and test\n",
    "train_img, test_img, train_lbl, test_lbl = train_test_split(mnist.data, mnist.target, test_size=1/7, random_state=0)\n",
    "scaler = StandardScaler()\n",
    "# Fit training set only\n",
    "scaler.fit(train_img)\n",
    "\n",
    "# Apply transform to both training set and test set\n",
    "train_img = scaler.transform(train_img)\n",
    "test_img = scaler.transform(test_img)\n",
    "\n",
    "# Make and instance of the Model\n",
    "pca = PCA(.85)\n",
    "\n",
    "# PCA fit\n",
    "pca.fit(train_img)\n",
    "\n",
    "# How many components did PCA choose?\n",
    "print('\\nNumber of components: %s\\n' %pca.n_components_)"
   ]
  },
  {
   "cell_type": "code",
   "execution_count": 3,
   "id": "2da05e55",
   "metadata": {},
   "outputs": [
    {
     "name": "stderr",
     "output_type": "stream",
     "text": [
      "/home/ec2-user/anaconda3/envs/python3/lib/python3.8/site-packages/sklearn/linear_model/_logistic.py:814: ConvergenceWarning: lbfgs failed to converge (status=1):\n",
      "STOP: TOTAL NO. of ITERATIONS REACHED LIMIT.\n",
      "\n",
      "Increase the number of iterations (max_iter) or scale the data as shown in:\n",
      "    https://scikit-learn.org/stable/modules/preprocessing.html\n",
      "Please also refer to the documentation for alternative solver options:\n",
      "    https://scikit-learn.org/stable/modules/linear_model.html#logistic-regression\n",
      "  n_iter_i = _check_optimize_result(\n"
     ]
    },
    {
     "data": {
      "text/plain": [
       "0.9455252918287937"
      ]
     },
     "execution_count": 3,
     "metadata": {},
     "output_type": "execute_result"
    }
   ],
   "source": [
    "train_img = pca.transform(train_img)\n",
    "test_img = pca.transform(test_img)\n",
    "\n",
    "logisticRegr = LogisticRegression(solver='lbfgs')\n",
    "\n",
    "# Train model\n",
    "start_time = time.time()\n",
    "logisticRegr.fit(train_img,train_lbl)\n",
    "finish_time = time.time()\n",
    "\n",
    "# Predicted for Ten Observations (image)\n",
    "logisticRegr.predict(test_img[0:10])\n",
    "\n",
    "# Measure Performance\n",
    "logisticRegr.score(test_img, test_lbl)"
   ]
  },
  {
   "cell_type": "code",
   "execution_count": 4,
   "id": "6394ecda",
   "metadata": {},
   "outputs": [
    {
     "data": {
      "text/plain": [
       "0.2774496078491211"
      ]
     },
     "execution_count": 4,
     "metadata": {},
     "output_type": "execute_result"
    }
   ],
   "source": [
    "run_time = finish_time - start_time\n",
    "run_time"
   ]
  },
  {
   "cell_type": "code",
   "execution_count": null,
   "id": "cc39a917",
   "metadata": {},
   "outputs": [],
   "source": []
  }
 ],
 "metadata": {
  "kernelspec": {
   "display_name": "conda_python3",
   "language": "python",
   "name": "conda_python3"
  },
  "language_info": {
   "codemirror_mode": {
    "name": "ipython",
    "version": 3
   },
   "file_extension": ".py",
   "mimetype": "text/x-python",
   "name": "python",
   "nbconvert_exporter": "python",
   "pygments_lexer": "ipython3",
   "version": "3.8.12"
  }
 },
 "nbformat": 4,
 "nbformat_minor": 5
}
